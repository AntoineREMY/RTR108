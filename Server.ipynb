{
 "cells": [
  {
   "cell_type": "code",
   "execution_count": 8,
   "metadata": {},
   "outputs": [
    {
     "ename": "SyntaxError",
     "evalue": "invalid syntax (<ipython-input-8-346888d14b82>, line 37)",
     "output_type": "error",
     "traceback": [
      "\u001b[0;36m  File \u001b[0;32m\"<ipython-input-8-346888d14b82>\"\u001b[0;36m, line \u001b[0;32m37\u001b[0m\n\u001b[0;31m    except:\u001b[0m\n\u001b[0m         ^\u001b[0m\n\u001b[0;31mSyntaxError\u001b[0m\u001b[0;31m:\u001b[0m invalid syntax\n"
     ]
    }
   ],
   "source": [
    "import threading\n",
    "import socketserver\n",
    "import queue\n",
    "import time\n",
    "\n",
    "#create a Queue of task with a max size of 100       \n",
    "QueueTask = queue.Queue(100)\n",
    "\n",
    "\n",
    "\n",
    "class MyTCPHandler(socketserver.BaseRequestHandler):\n",
    "    \"\"\"\n",
    "    The RequestHandler class for TCP server.\n",
    "    \"\"\"\n",
    "    def handle(self):\n",
    "        # self.request is the TCP socket connected to the client\n",
    "        self.data = self.request.recv(1024).strip()\n",
    "        # fill the queue of request\n",
    "        QueueTask.put_nowait((self.data,self.client_address[0]))\n",
    "        print(\"pinged\")\n",
    "\n",
    "HOST, PORT = \"localhost\", 4000\n",
    "server = socketserver.TCPServer((HOST, PORT), MyTCPHandler)\n",
    "serverTH = threading.Thread(target=server.serve_forever)\n",
    "serverTH.daemon = True\n",
    "\n",
    "def ServerStop():\n",
    "    sock.close()\n",
    "    serverTH.stop()\n",
    "    print(\"Server closed\")\n",
    "def ServerStart():\n",
    "    try:\n",
    "        print(\"Server starting ...\")\n",
    "        serverTH.start()\n",
    "    finally:\n",
    "        print(\"Server started on {}:{}\".format(HOST,PORT))\n",
    "    except:\n",
    "        serverTH.stop()\n",
    "        server.sock\n",
    "        print(\"Server Crashed ;\\(\\n{}\".format(e))\n",
    "\n",
    "\n",
    "ServerStart()\n",
    "#Stop the server after 30s\n",
    "time.sleep(30)\n",
    "ServerStop()"
   ]
  },
  {
   "cell_type": "code",
   "execution_count": null,
   "metadata": {},
   "outputs": [],
   "source": []
  },
  {
   "cell_type": "code",
   "execution_count": null,
   "metadata": {},
   "outputs": [],
   "source": []
  }
 ],
 "metadata": {
  "kernelspec": {
   "display_name": "Python 3",
   "language": "python",
   "name": "python3"
  },
  "language_info": {
   "codemirror_mode": {
    "name": "ipython",
    "version": 3
   },
   "file_extension": ".py",
   "mimetype": "text/x-python",
   "name": "python",
   "nbconvert_exporter": "python",
   "pygments_lexer": "ipython3",
   "version": "3.6.4"
  }
 },
 "nbformat": 4,
 "nbformat_minor": 2
}
