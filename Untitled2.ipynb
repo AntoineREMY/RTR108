{
 "cells": [
  {
   "cell_type": "code",
   "execution_count": 53,
   "metadata": {},
   "outputs": [],
   "source": [
    "import requests\n",
    "import re\n",
    "import time\n",
    "\n",
    "def webCrawl(link):\n",
    "    L = [(link,[\"start page\"])]\n",
    "    stack = [link]\n",
    "    while len(stack) > 0 :\n",
    "        templink = stack.pop(0)\n",
    "        try:\n",
    "            temp  = str(requests.get(templink).content)\n",
    "        except:\n",
    "            print(\"Eror for {}\".format(templink))\n",
    "            pass\n",
    "        templist = re.findall(\"<a href=\\\"(https?:[^ ]+)\\\">\",temp)\n",
    "        for newlink in templist:\n",
    "            found = False\n",
    "            for pastlink in L:\n",
    "                if(pastlink[0] == newlink):\n",
    "                    pastlink[1].append(templink)\n",
    "                    found = True\n",
    "                    break\n",
    "            if(not found and  not newlink in stack):\n",
    "                stack.append(newlink)\n",
    "                L.append((newlink,[templink]))\n",
    "        print(\"Crawling {} got : {}\".format(templink,templist))\n",
    "    return L\n",
    "        "
   ]
  },
  {
   "cell_type": "code",
   "execution_count": 62,
   "metadata": {},
   "outputs": [],
   "source": [
    "def printCrawl(crawl):\n",
    "    change = True\n",
    "    while(change):\n",
    "        change = False\n",
    "        for i in range(len(crawl)-1):\n",
    "            if (len(crawl[i][1]) > len(crawl[i+1][1])):\n",
    "                temp = crawl[i]\n",
    "                crawl[i] = crawl[i+1]\n",
    "                crawl[i+1] = temp\n",
    "                change = True\n",
    "    for t in crawl:\n",
    "        print(\"link {} is linked to:\".format(t[0]))\n",
    "        for k in t[1]:\n",
    "            print(\"   -{}\".format(k))\n",
    "                    \n",
    "        "
   ]
  },
  {
   "cell_type": "code",
   "execution_count": 63,
   "metadata": {},
   "outputs": [],
   "source": [
    "def Crawler(link):\n",
    "    printCrawl(webCrawl(link))"
   ]
  },
  {
   "cell_type": "code",
   "execution_count": 64,
   "metadata": {},
   "outputs": [
    {
     "name": "stdout",
     "output_type": "stream",
     "text": [
      "Crawling https://www.crawler-test.com/ got : ['https://www.crawler-test.com//urls/double_slash/disallowed_start', 'https://subdomain.crawler-test.com', 'https://invalid.crawler-test.com', 'http://crawler-test.com/', 'http://www.crawler-test.com', 'https://www.crawler-test.com']\n",
      "Crawling https://www.crawler-test.com//urls/double_slash/disallowed_start got : []\n",
      "Crawling https://subdomain.crawler-test.com got : []\n",
      "Eror for https://invalid.crawler-test.com\n",
      "Crawling https://invalid.crawler-test.com got : []\n",
      "Crawling http://crawler-test.com/ got : ['https://crawler-test.com//urls/double_slash/disallowed_start', 'https://subdomain.crawler-test.com', 'https://invalid.crawler-test.com', 'http://crawler-test.com/', 'http://crawler-test.com', 'https://crawler-test.com']\n",
      "Crawling http://www.crawler-test.com got : ['https://www.crawler-test.com//urls/double_slash/disallowed_start', 'https://subdomain.crawler-test.com', 'https://invalid.crawler-test.com', 'http://crawler-test.com/', 'http://www.crawler-test.com', 'https://www.crawler-test.com']\n",
      "Crawling https://www.crawler-test.com got : ['https://www.crawler-test.com//urls/double_slash/disallowed_start', 'https://subdomain.crawler-test.com', 'https://invalid.crawler-test.com', 'http://crawler-test.com/', 'http://www.crawler-test.com', 'https://www.crawler-test.com']\n",
      "Crawling https://crawler-test.com//urls/double_slash/disallowed_start got : []\n",
      "Crawling http://crawler-test.com got : ['https://crawler-test.com//urls/double_slash/disallowed_start', 'https://subdomain.crawler-test.com', 'https://invalid.crawler-test.com', 'http://crawler-test.com/', 'http://crawler-test.com', 'https://crawler-test.com']\n",
      "Crawling https://crawler-test.com got : ['https://crawler-test.com//urls/double_slash/disallowed_start', 'https://subdomain.crawler-test.com', 'https://invalid.crawler-test.com', 'http://crawler-test.com/', 'http://crawler-test.com', 'https://crawler-test.com']\n",
      "link https://www.crawler-test.com/ is linked to:\n",
      "   -start page\n",
      "link https://www.crawler-test.com//urls/double_slash/disallowed_start is linked to:\n",
      "   -https://www.crawler-test.com/\n",
      "   -http://www.crawler-test.com\n",
      "   -https://www.crawler-test.com\n",
      "link http://www.crawler-test.com is linked to:\n",
      "   -https://www.crawler-test.com/\n",
      "   -http://www.crawler-test.com\n",
      "   -https://www.crawler-test.com\n",
      "link https://www.crawler-test.com is linked to:\n",
      "   -https://www.crawler-test.com/\n",
      "   -http://www.crawler-test.com\n",
      "   -https://www.crawler-test.com\n",
      "link https://crawler-test.com//urls/double_slash/disallowed_start is linked to:\n",
      "   -http://crawler-test.com/\n",
      "   -http://crawler-test.com\n",
      "   -https://crawler-test.com\n",
      "link http://crawler-test.com is linked to:\n",
      "   -http://crawler-test.com/\n",
      "   -http://crawler-test.com\n",
      "   -https://crawler-test.com\n",
      "link https://crawler-test.com is linked to:\n",
      "   -http://crawler-test.com/\n",
      "   -http://crawler-test.com\n",
      "   -https://crawler-test.com\n",
      "link https://subdomain.crawler-test.com is linked to:\n",
      "   -https://www.crawler-test.com/\n",
      "   -http://crawler-test.com/\n",
      "   -http://www.crawler-test.com\n",
      "   -https://www.crawler-test.com\n",
      "   -http://crawler-test.com\n",
      "   -https://crawler-test.com\n",
      "link https://invalid.crawler-test.com is linked to:\n",
      "   -https://www.crawler-test.com/\n",
      "   -http://crawler-test.com/\n",
      "   -http://www.crawler-test.com\n",
      "   -https://www.crawler-test.com\n",
      "   -http://crawler-test.com\n",
      "   -https://crawler-test.com\n",
      "link http://crawler-test.com/ is linked to:\n",
      "   -https://www.crawler-test.com/\n",
      "   -http://crawler-test.com/\n",
      "   -http://www.crawler-test.com\n",
      "   -https://www.crawler-test.com\n",
      "   -http://crawler-test.com\n",
      "   -https://crawler-test.com\n"
     ]
    }
   ],
   "source": [
    "Crawler(\"https://www.crawler-test.com/\")"
   ]
  },
  {
   "cell_type": "code",
   "execution_count": null,
   "metadata": {},
   "outputs": [],
   "source": []
  }
 ],
 "metadata": {
  "kernelspec": {
   "display_name": "Python 3",
   "language": "python",
   "name": "python3"
  },
  "language_info": {
   "codemirror_mode": {
    "name": "ipython",
    "version": 3
   },
   "file_extension": ".py",
   "mimetype": "text/x-python",
   "name": "python",
   "nbconvert_exporter": "python",
   "pygments_lexer": "ipython3",
   "version": "3.6.4"
  }
 },
 "nbformat": 4,
 "nbformat_minor": 2
}
