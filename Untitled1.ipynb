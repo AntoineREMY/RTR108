{
 "cells": [
  {
   "cell_type": "code",
   "execution_count": null,
   "metadata": {},
   "outputs": [],
   "source": [
    "#!/usr/bin/env python3\n",
    "# -*- coding: utf-8 -*-\n",
    "\"\"\"\n",
    "Created on Thu Feb 13 13:21:19 2020\n",
    "\n",
    "@author: zeus\n",
    "\"\"\"\n",
    "\n",
    "import socket\n",
    "\n",
    "\n",
    "HOST, PORT = \"localhost\", 4000\n",
    "data = \"1\"\n",
    "\n",
    "# Create a socket (SOCK_STREAM means a TCP socket)\n",
    "sock = socket.socket(socket.AF_INET, socket.SOCK_STREAM)\n",
    "received = \"\"\n",
    "try:\n",
    "    # Connect to server and send data\n",
    "    sock.connect((HOST, PORT))\n",
    "    sock.sendall(bytes(data + \"\\n\", \"utf-8\"))\n",
    "\n",
    "    # Receive data from the server and shut down\n",
    "    received = (str(sock.recv(1024))).strip()\n",
    "    \n",
    "    \n",
    "    \n",
    "except Exception as e:\n",
    "     print(e)\n",
    "\n",
    "print(\"Sent:     {}\".format(data))\n",
    "print(\"Received: {}\".format(received))\n",
    "sock.close()"
   ]
  }
 ],
 "metadata": {
  "kernelspec": {
   "display_name": "Python 3",
   "language": "python",
   "name": "python3"
  },
  "language_info": {
   "codemirror_mode": {
    "name": "ipython",
    "version": 3
   },
   "file_extension": ".py",
   "mimetype": "text/x-python",
   "name": "python",
   "nbconvert_exporter": "python",
   "pygments_lexer": "ipython3",
   "version": "3.6.4"
  }
 },
 "nbformat": 4,
 "nbformat_minor": 2
}
